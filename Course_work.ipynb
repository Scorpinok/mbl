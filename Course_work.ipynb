{
 "cells": [
  {
   "cell_type": "code",
   "execution_count": 1,
   "metadata": {},
   "outputs": [],
   "source": [
    "import numpy as np\n",
    "import pandas as pd\n",
    "\n",
    "from catboost import CatBoostRegressor\n",
    "from sklearn.model_selection import train_test_split\n",
    "\n",
    "from sklearn import metrics\n",
    "from sklearn.pipeline import Pipeline, FeatureUnion\n",
    "\n",
    "from sklearn.metrics import r2_score\n",
    "from sklearn.decomposition import PCA\n",
    "from sklearn.preprocessing import StandardScaler\n",
    "\n",
    "import category_encoders as ce\n",
    "\n",
    "from sklearn.impute import SimpleImputer\n",
    "from sklearn.compose import ColumnTransformer\n",
    "from sklearn.model_selection import GridSearchCV\n",
    "\n",
    "import dill\n",
    "\n",
    "from sklearn.base import BaseEstimator, TransformerMixin\n",
    "\n",
    "import warnings\n",
    "warnings.filterwarnings('ignore')"
   ]
  },
  {
   "cell_type": "code",
   "execution_count": 2,
   "metadata": {},
   "outputs": [],
   "source": [
    "# Загружаем данные Сбербанка по недвижимости: https://www.kaggle.com/c/sberbank-russian-housing-market/data\n",
    "path_name = \"train.csv\"\n",
    "df = pd.read_csv(path_name, sep=\",\")\n"
   ]
  },
  {
   "cell_type": "code",
   "execution_count": 3,
   "metadata": {},
   "outputs": [
    {
     "name": "stdout",
     "output_type": "stream",
     "text": [
      "<class 'pandas.core.frame.DataFrame'>\n",
      "RangeIndex: 30471 entries, 0 to 30470\n",
      "Columns: 292 entries, id to price_doc\n",
      "dtypes: float64(119), int64(157), object(16)\n",
      "memory usage: 67.9+ MB\n"
     ]
    }
   ],
   "source": [
    "# смотрим сведения о них\n",
    "df.info()"
   ]
  },
  {
   "cell_type": "code",
   "execution_count": 4,
   "metadata": {},
   "outputs": [],
   "source": [
    "# выделяем целевую переменную\n",
    "y = df[\"price_doc\"]"
   ]
  },
  {
   "cell_type": "code",
   "execution_count": 5,
   "metadata": {},
   "outputs": [],
   "source": [
    "# убираем \"id\", \"price_doc\" из набора признаков\n",
    "X = df.drop(['id', 'price_doc'], axis=1)"
   ]
  },
  {
   "cell_type": "code",
   "execution_count": 6,
   "metadata": {},
   "outputs": [],
   "source": [
    "# Обзор номинативных признаков\n",
    "cat_names = []\n",
    "for cat_colname in X.select_dtypes(include='object').columns:\n",
    "    cat_names.append(cat_colname)\n",
    "    #print(f\"{cat_colname} \\n\\n{X[cat_colname].value_counts()} \\n{'*' * 70} \\n\")"
   ]
  },
  {
   "cell_type": "code",
   "execution_count": 7,
   "metadata": {},
   "outputs": [],
   "source": [
    "# Обзор численных признаков\n",
    "num_names = []\n",
    "for num_colname in X.select_dtypes(include='number').columns:\n",
    "    num_names.append(num_colname)\n",
    "    #print(f\"{cat_colname} \\n\\n{X[cat_colname].value_counts()} \\n{'*' * 70} \\n\")"
   ]
  },
  {
   "cell_type": "code",
   "execution_count": 8,
   "metadata": {},
   "outputs": [],
   "source": [
    "# делаем класс удаления тех колонок, в которых пропусков больше 20%\n",
    "\n",
    "class empty_drop(BaseEstimator, TransformerMixin):\n",
    "    def __init__(self, attribute_names):\n",
    "        pass\n",
    "    \n",
    "    def fit(self, x, y=None):\n",
    "        dat = x.copy()\n",
    "        self.lstRemCols = self._delemptCols(dat)\n",
    "        return self\n",
    "    \n",
    "    def transform(self, x):        \n",
    "        dat = x.copy()\n",
    "        lstcols = list(set(dat.columns) - set(self.lstRemCols))\n",
    "        return dat.loc[:, lstcols]\n",
    "    \n",
    "    def _delemptCols(self, df):\n",
    "        emp_arr = []\n",
    "        for i in df:\n",
    "            pct_missing = np.mean(df[i].isnull())\n",
    "            if (pct_missing != 0) and (pct_missing >= 0.2):\n",
    "                emp_arr.append(i)        \n",
    "        return emp_arr\n"
   ]
  },
  {
   "cell_type": "code",
   "execution_count": 9,
   "metadata": {},
   "outputs": [],
   "source": [
    "# делаем класс устранения выбросов\n",
    "class outlier_replace(BaseEstimator, TransformerMixin):\n",
    "    def __init__(self, attribute_names):\n",
    "        pass\n",
    "    \n",
    "    def fit(self, x, y=None):\n",
    "        dat = x.copy()\n",
    "        self.lstRemCols = self._indicies_of_outliers(dat)\n",
    "        return self\n",
    "    \n",
    "    def transform(self, x):        \n",
    "        dat = x.copy()        \n",
    "        for cat_colname in dat.columns:\n",
    "            for array_of_index in self.lstRemCols:\n",
    "                for i in array_of_index:\n",
    "                    dat.loc[dat[cat_colname] == dat[cat_colname][i], cat_colname] = dat[cat_colname].median()\n",
    "        return dat\n",
    "    \n",
    "    def _indicies_of_outliers(self, df):\n",
    "        \"\"\"Возвращает индекс выбросов, используя межквартильный размах\n",
    "        \"\"\"\n",
    "        q1, q3 = np.percentile(df, [25,75])\n",
    "        iqr = q3 - q1\n",
    "        lower_bound = q1 - (iqr * 1.5)\n",
    "        upper_bound = q3 + (iqr * 1.5)\n",
    "        return np.where((df > upper_bound)|(df < lower_bound))    \n"
   ]
  },
  {
   "cell_type": "code",
   "execution_count": 10,
   "metadata": {},
   "outputs": [],
   "source": [
    "# формируем пайплайн для численных признаков\n",
    "numeric_transformer = Pipeline(steps=[\n",
    "    ('emptdr',empty_drop(list(X.columns))),\n",
    "    ('outlier',outlier_replace(list(X.columns))),\n",
    "    ('imputer', SimpleImputer(strategy='median'))\n",
    "    ])"
   ]
  },
  {
   "cell_type": "code",
   "execution_count": 11,
   "metadata": {},
   "outputs": [],
   "source": [
    "# формируем пайплайн для категориальных признаков\n",
    "categorical_transformer = ce.CatBoostEncoder(return_df=True)"
   ]
  },
  {
   "cell_type": "code",
   "execution_count": 12,
   "metadata": {},
   "outputs": [],
   "source": [
    "# формируем пайплайн для всех признаков\n",
    "preprocessor = ColumnTransformer(\n",
    "    transformers=[\n",
    "        ('cat', categorical_transformer, cat_names),\n",
    "        ('num', numeric_transformer, num_names)\n",
    "        ])"
   ]
  },
  {
   "cell_type": "code",
   "execution_count": 13,
   "metadata": {},
   "outputs": [],
   "source": [
    "# формируем результирующий пайплайн\n",
    "mdl = Pipeline(steps=[('preprocessor', preprocessor),\n",
    "                     ('scaler', StandardScaler()),\n",
    "                      ('pca', PCA(n_components=0.98, whiten=True)),\n",
    "                      ('catboost', CatBoostRegressor(learning_rate=0.1,depth=5,l2_leaf_reg=11,silent=True))])"
   ]
  },
  {
   "cell_type": "code",
   "execution_count": 14,
   "metadata": {},
   "outputs": [],
   "source": [
    "#разделяем данные на тестовые и тренировочные\n",
    "x_train, x_test, y_train, y_test = train_test_split(X, y, test_size=0.2, random_state=42)"
   ]
  },
  {
   "cell_type": "code",
   "execution_count": 15,
   "metadata": {},
   "outputs": [
    {
     "name": "stdout",
     "output_type": "stream",
     "text": [
      "model score R^2: 0.652\n"
     ]
    }
   ],
   "source": [
    "# тренируем модель и смотрим ее R^2\n",
    "mdl.fit(x_train, y_train)\n",
    "print(f\"model score R^2: {mdl.score(x_test, y_test):.3f}\")"
   ]
  },
  {
   "cell_type": "code",
   "execution_count": 16,
   "metadata": {},
   "outputs": [],
   "source": [
    "# Предсказываем значения\n",
    "y_predict_ = mdl.predict(x_test)"
   ]
  },
  {
   "cell_type": "code",
   "execution_count": 17,
   "metadata": {},
   "outputs": [
    {
     "name": "stdout",
     "output_type": "stream",
     "text": [
      "R^2: 0.652\n"
     ]
    }
   ],
   "source": [
    "# смотрим R^2\n",
    "print(f\"R^2: {r2_score(y_test, y_predict_):.3f}\")"
   ]
  },
  {
   "cell_type": "code",
   "execution_count": 18,
   "metadata": {},
   "outputs": [
    {
     "name": "stdout",
     "output_type": "stream",
     "text": [
      "Средкв лог ошибка рег: 0.233\n"
     ]
    }
   ],
   "source": [
    "# смотрим cреднеквадратичную логарифмическую ошибку регрессии\n",
    "print(f\"Средкв лог ошибка рег: {metrics.mean_squared_log_error(y_test,y_predict_):.3f}\")"
   ]
  },
  {
   "cell_type": "code",
   "execution_count": 19,
   "metadata": {},
   "outputs": [
    {
     "data": {
      "text/plain": [
       "GridSearchCV(cv=10,\n",
       "             estimator=Pipeline(steps=[('preprocessor',\n",
       "                                        ColumnTransformer(transformers=[('cat',\n",
       "                                                                         CatBoostEncoder(),\n",
       "                                                                         ['timestamp',\n",
       "                                                                          'product_type',\n",
       "                                                                          'sub_area',\n",
       "                                                                          'culture_objects_top_25',\n",
       "                                                                          'thermal_power_plant_raion',\n",
       "                                                                          'incineration_raion',\n",
       "                                                                          'oil_chemistry_raion',\n",
       "                                                                          'radiation_raion',\n",
       "                                                                          'railroad_terminal_raion',\n",
       "                                                                          'big_market_raion',\n",
       "                                                                          'nuclear_reactor_raion',\n",
       "                                                                          'detention...\n",
       "                                                                          'shopping_centers_raion',\n",
       "                                                                          'office_raion',\n",
       "                                                                          'full_all',\n",
       "                                                                          'male_f', ...])])),\n",
       "                                       ('scaler', StandardScaler()),\n",
       "                                       ('pca',\n",
       "                                        PCA(n_components=0.98, whiten=True)),\n",
       "                                       ('catboost',\n",
       "                                        <catboost.core.CatBoostRegressor object at 0x000001DFF14F9B50>)]),\n",
       "             param_grid={'catboost__depth': [4, 6],\n",
       "                         'catboost__l2_leaf_reg': [11],\n",
       "                         'catboost__learning_rate': [0.1],\n",
       "                         'preprocessor__num__imputer__strategy': ['median']})"
      ]
     },
     "execution_count": 19,
     "metadata": {},
     "output_type": "execute_result"
    }
   ],
   "source": [
    "# задаем набор для отбора\n",
    "param_grid = {\n",
    "    'preprocessor__num__imputer__strategy': ['median'],    \n",
    "'catboost__learning_rate': [0.1],\n",
    "        'catboost__depth': [4, 6],\n",
    "        'catboost__l2_leaf_reg': [11]}\n",
    "\n",
    "grid_search = GridSearchCV(mdl, param_grid, cv=10)\n",
    "grid_search"
   ]
  },
  {
   "cell_type": "code",
   "execution_count": 20,
   "metadata": {},
   "outputs": [
    {
     "name": "stdout",
     "output_type": "stream",
     "text": [
      "Best params:\n",
      "{'catboost__depth': 6, 'catboost__l2_leaf_reg': 11, 'catboost__learning_rate': 0.1, 'preprocessor__num__imputer__strategy': 'median'}\n"
     ]
    }
   ],
   "source": [
    "# начинаем отбор лучших параметров модели\n",
    "grid_search.fit(x_train, y_train)\n",
    "print(f\"Best params:\")\n",
    "print(grid_search.best_params_)"
   ]
  },
  {
   "cell_type": "code",
   "execution_count": 21,
   "metadata": {},
   "outputs": [],
   "source": [
    "# с учетом лучших отобранных параметров составляем пайплайн\n",
    "\n",
    "numeric_transformer = Pipeline(steps=[\n",
    "    ('emptdr',empty_drop(list(X.columns))),\n",
    "    ('outlier',outlier_replace(list(X.columns))),\n",
    "    ('imputer', SimpleImputer(strategy=grid_search.best_params_.get('preprocessor__num__imputer__strategy')))\n",
    "    ])\n",
    "\n",
    "preprocessor = ColumnTransformer(\n",
    "    transformers=[\n",
    "        ('num', numeric_transformer, num_names),\n",
    "        ('cat', categorical_transformer, cat_names)])\n",
    "\n",
    "mdl2 = Pipeline(steps=[\n",
    "                      ('preprocessor', preprocessor),\n",
    "                    ('scaler', StandardScaler()),\n",
    "                      ('pca', PCA(n_components=0.95, whiten=True)),\n",
    "                      ('catboost', CatBoostRegressor(learning_rate=grid_search.best_params_.get('catboost__learning_rate'),\n",
    "                                                     depth=grid_search.best_params_.get('catboost__depth'),\n",
    "                                                     l2_leaf_reg=grid_search.best_params_.get('catboost__l2_leaf_reg'),\n",
    "                                                    silent=True))])"
   ]
  },
  {
   "cell_type": "code",
   "execution_count": 22,
   "metadata": {},
   "outputs": [
    {
     "name": "stdout",
     "output_type": "stream",
     "text": [
      "model score R^2: 0.652\n"
     ]
    }
   ],
   "source": [
    "# тренируем модель на лучших параметрах\n",
    "mdl2.fit(x_train, y_train)\n",
    "print(f\"model score R^2: {mdl.score(x_test, y_test):.3f}\")\n"
   ]
  },
  {
   "cell_type": "code",
   "execution_count": 23,
   "metadata": {},
   "outputs": [],
   "source": [
    "# Предсказываем значения\n",
    "y_predict_2 = mdl2.predict(x_test)"
   ]
  },
  {
   "cell_type": "code",
   "execution_count": 24,
   "metadata": {},
   "outputs": [
    {
     "name": "stdout",
     "output_type": "stream",
     "text": [
      "R^2: 0.650\n"
     ]
    }
   ],
   "source": [
    "# смотрим R^2\n",
    "print(f\"R^2: {r2_score(y_test, y_predict_2):.3f}\")"
   ]
  },
  {
   "cell_type": "code",
   "execution_count": 25,
   "metadata": {},
   "outputs": [
    {
     "name": "stdout",
     "output_type": "stream",
     "text": [
      "Средкв лог ошибка рег: 0.232\n"
     ]
    }
   ],
   "source": [
    "# смотрим cреднеквадратичную логарифмическую ошибку регрессии\n",
    "print(f\"Средкв лог ошибка рег: {metrics.mean_squared_log_error(y_test, y_predict_2):.3f}\")"
   ]
  },
  {
   "cell_type": "code",
   "execution_count": 26,
   "metadata": {},
   "outputs": [
    {
     "data": {
      "text/plain": [
       "[('preprocessor',\n",
       "  ColumnTransformer(transformers=[('num',\n",
       "                                   Pipeline(steps=[('emptdr',\n",
       "                                                    empty_drop(attribute_names=None)),\n",
       "                                                   ('outlier',\n",
       "                                                    outlier_replace(attribute_names=None)),\n",
       "                                                   ('imputer',\n",
       "                                                    SimpleImputer(strategy='median'))]),\n",
       "                                   ['full_sq', 'life_sq', 'floor', 'max_floor',\n",
       "                                    'material', 'build_year', 'num_room',\n",
       "                                    'kitch_sq', 'state', 'area_m', 'raion_popul',\n",
       "                                    'green_zone_part', 'indust_part',\n",
       "                                    'chi...\n",
       "                                    'full_all', 'male_f', ...]),\n",
       "                                  ('cat', CatBoostEncoder(),\n",
       "                                   ['timestamp', 'product_type', 'sub_area',\n",
       "                                    'culture_objects_top_25',\n",
       "                                    'thermal_power_plant_raion',\n",
       "                                    'incineration_raion', 'oil_chemistry_raion',\n",
       "                                    'radiation_raion', 'railroad_terminal_raion',\n",
       "                                    'big_market_raion', 'nuclear_reactor_raion',\n",
       "                                    'detention_facility_raion', 'water_1line',\n",
       "                                    'big_road1_1line', 'railroad_1line',\n",
       "                                    'ecology'])])),\n",
       " ('scaler', StandardScaler()),\n",
       " ('pca', PCA(n_components=0.95, whiten=True)),\n",
       " ('catboost', <catboost.core.CatBoostRegressor at 0x1df8484bf40>)]"
      ]
     },
     "execution_count": 26,
     "metadata": {},
     "output_type": "execute_result"
    }
   ],
   "source": [
    "# смотрим на пайплайн\n",
    "mdl2.steps"
   ]
  },
  {
   "cell_type": "code",
   "execution_count": 27,
   "metadata": {},
   "outputs": [],
   "source": [
    "# сериализуем пайплайн\n",
    "with open(\"catboost_pipeline2.dill\", \"wb\") as f:\n",
    "    dill.dump(mdl2, f)\n",
    "    "
   ]
  },
  {
   "cell_type": "code",
   "execution_count": null,
   "metadata": {},
   "outputs": [],
   "source": []
  }
 ],
 "metadata": {
  "kernelspec": {
   "display_name": "Python 3",
   "language": "python",
   "name": "python3"
  },
  "language_info": {
   "codemirror_mode": {
    "name": "ipython",
    "version": 3
   },
   "file_extension": ".py",
   "mimetype": "text/x-python",
   "name": "python",
   "nbconvert_exporter": "python",
   "pygments_lexer": "ipython3",
   "version": "3.8.5"
  }
 },
 "nbformat": 4,
 "nbformat_minor": 4
}
